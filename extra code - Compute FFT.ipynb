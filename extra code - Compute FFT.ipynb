{
 "cells": [
  {
   "cell_type": "code",
   "execution_count": 1,
   "metadata": {},
   "outputs": [],
   "source": [
    "import numpy as np\n",
    "import h5py\n",
    "from numpy.fft import fft"
   ]
  },
  {
   "cell_type": "markdown",
   "metadata": {},
   "source": [
    "## FFT Functions"
   ]
  },
  {
   "cell_type": "code",
   "execution_count": 2,
   "metadata": {},
   "outputs": [],
   "source": [
    "def load_data(filename, dataname):\n",
    "    with h5py.File(filename, 'r') as hf:\n",
    "        x = hf[dataname][:]\n",
    "    return x"
   ]
  },
  {
   "cell_type": "code",
   "execution_count": 3,
   "metadata": {},
   "outputs": [],
   "source": [
    "def build_empty_array(signalData):\n",
    "    x_fourier = np.empty((signalData.shape[0], signalData.shape[1], signalData.shape[2]))\n",
    "    x_cropped_fourier = np.empty((signalData.shape[0], signalData.shape[1], signalData.shape[2]//2))\n",
    "    \n",
    "    print(x_fourier.shape, x_cropped_fourier.shape)\n",
    "    return x_fourier, x_cropped_fourier"
   ]
  },
  {
   "cell_type": "code",
   "execution_count": 4,
   "metadata": {},
   "outputs": [],
   "source": [
    "def apply_fft(signalData, numberSamples):\n",
    "    x_fourier, x_cropped_fourier = build_empty_array(signalData)\n",
    "    \n",
    "    for event in range(len(signalData)):\n",
    "        for channel in range(len(signalData[0])):\n",
    "            x_fourier[event][channel] = fft(signalData[event][channel])\n",
    "            x_cropped_fourier[event][channel] = x_fourier[event][channel][:numberSamples//2]\n",
    "\n",
    "    return x_cropped_fourier"
   ]
  },
  {
   "cell_type": "code",
   "execution_count": 5,
   "metadata": {},
   "outputs": [],
   "source": [
    "def save_data(x, dataName):\n",
    "    with h5py.File(dataName + '_x.h5', 'w') as hf:\n",
    "        hf.create_dataset(dataName + \"_x_dataset\", data=x)"
   ]
  },
  {
   "cell_type": "markdown",
   "metadata": {},
   "source": [
    "## FFT Loop"
   ]
  },
  {
   "cell_type": "code",
   "execution_count": 1,
   "metadata": {},
   "outputs": [],
   "source": [
    "# This will change based on what length the signal is cropped to. Should be equal to signal length.\n",
    "numberSamples = 250"
   ]
  },
  {
   "cell_type": "code",
   "execution_count": 9,
   "metadata": {},
   "outputs": [],
   "source": [
    "# DataSets\n",
    "data_files = [\"EP_preprocessed_x.h5\", \"EP_spectral_20_upperBoundary_x.h5\", \"EP_spectral_30_upperBoundary_x.h5\", \n",
    "             \"EP_spectral_50_upperBoundary_x.h5\", \"EP_spectral_100_upperBoundary_x.h5\"]\n",
    "data_sets = [\"EP_preprocessed_x_dataset\",\"EP_spectral_20_upperBoundary_x_dataset\",\"EP_spectral_30_upperBoundary_x_dataset\", \n",
    "            \"EP_spectral_50_upperBoundary_x_dataset\", \"EP_spectral_100_upperBoundary_x_dataset\"]\n",
    "new_name = [\"noFilter\", \"20Filter\", \"30Filter\", \"50Filter\", \"100Filter\"]"
   ]
  },
  {
   "cell_type": "code",
   "execution_count": 10,
   "metadata": {},
   "outputs": [
    {
     "name": "stdout",
     "output_type": "stream",
     "text": [
      "(64845, 14, 250) (64845, 14, 125)\n"
     ]
    },
    {
     "name": "stderr",
     "output_type": "stream",
     "text": [
      "C:\\Users\\Avery\\Anaconda3\\envs\\mnistbrain\\lib\\site-packages\\ipykernel_launcher.py:6: ComplexWarning: Casting complex values to real discards the imaginary part\n",
      "  \n"
     ]
    },
    {
     "name": "stdout",
     "output_type": "stream",
     "text": [
      "(64845, 14, 250) (64845, 14, 125)\n",
      "(64845, 14, 250) (64845, 14, 125)\n",
      "(64845, 14, 250) (64845, 14, 125)\n",
      "(64845, 14, 250) (64845, 14, 125)\n"
     ]
    }
   ],
   "source": [
    "for i in range(len(data_files)):\n",
    "    X = load_data(data_files[i], data_sets[i])\n",
    "    X_cropped_fourier = apply_fft(X, numberSamples)\n",
    "    save_data(X_cropped_fourier, f\"EP_cropped_Fourier_{new_name[i]}\")"
   ]
  }
 ],
 "metadata": {
  "kernelspec": {
   "display_name": "Python 3",
   "language": "python",
   "name": "python3"
  },
  "language_info": {
   "codemirror_mode": {
    "name": "ipython",
    "version": 3
   },
   "file_extension": ".py",
   "mimetype": "text/x-python",
   "name": "python",
   "nbconvert_exporter": "python",
   "pygments_lexer": "ipython3",
   "version": "3.7.5"
  }
 },
 "nbformat": 4,
 "nbformat_minor": 2
}
