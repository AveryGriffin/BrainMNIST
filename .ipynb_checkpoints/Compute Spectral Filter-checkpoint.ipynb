{
 "cells": [
  {
   "cell_type": "code",
   "execution_count": null,
   "metadata": {},
   "outputs": [],
   "source": [
    "import numpy as np\n",
    "import h5py\n",
    "import scipy.signal as scisignal"
   ]
  },
  {
   "cell_type": "markdown",
   "metadata": {},
   "source": [
    "## Loading in Data"
   ]
  },
  {
   "cell_type": "code",
   "execution_count": null,
   "metadata": {},
   "outputs": [],
   "source": [
    "with h5py.File('EP_preprocessed_x.h5', 'r') as hf:\n",
    "    X = hf[\"EP_preprocessed_x_dataset\"][:]"
   ]
  },
  {
   "cell_type": "code",
   "execution_count": null,
   "metadata": {},
   "outputs": [],
   "source": [
    "print(X.shape)"
   ]
  },
  {
   "cell_type": "markdown",
   "metadata": {},
   "source": [
    "## Reshaping X - optional"
   ]
  },
  {
   "cell_type": "code",
   "execution_count": null,
   "metadata": {},
   "outputs": [],
   "source": [
    "def reshape_x(pre_x):\n",
    "    new_x = np.reshape(pre_x, (pre_x.shape[0], pre_x.shape[1]*pre_x.shape[2]))\n",
    "    return new_x"
   ]
  },
  {
   "cell_type": "code",
   "execution_count": null,
   "metadata": {},
   "outputs": [],
   "source": [
    "#X = reshape_x(X)"
   ]
  },
  {
   "cell_type": "markdown",
   "metadata": {},
   "source": [
    "## Spectral Filter Functions"
   ]
  },
  {
   "cell_type": "code",
   "execution_count": null,
   "metadata": {},
   "outputs": [],
   "source": [
    "def lowhigh_spectral_filter(signalData, upperBoundary):\n",
    "    b,a = scisignal.butter(4, [upperBoundary/125], btype='lowpass')\n",
    "    filtered_signal_temp = scisignal.filtfilt(b,a,scisignal.detrend(signalData, type='constant'))\n",
    "    \n",
    "    b,a = scisignal.butter(4, [3/125], btype='highpass')\n",
    "    filtered_signal_final = scisignal.filtfilt(b,a,scisignal.detrend(filtered_signal_temp, type='constant'))\n",
    "    \n",
    "    return filtered_signal_final"
   ]
  },
  {
   "cell_type": "code",
   "execution_count": null,
   "metadata": {},
   "outputs": [],
   "source": [
    "def build_empty_array(signalData):\n",
    "    x_spectral = np.empty((signalData.shape[0], signalData.shape[1], signalData.shape[2]))\n",
    "    print(x_spectral.shape)\n",
    "    return x_spectral"
   ]
  },
  {
   "cell_type": "code",
   "execution_count": null,
   "metadata": {},
   "outputs": [],
   "source": [
    "def apply_spectral_filter(signalData, upperBoundary):\n",
    "    x_spectral = build_empty_array(signalData)\n",
    "    \n",
    "    for event in range(len(signalData)):\n",
    "        for channel in range(len(signalData[0])):\n",
    "            x_spectral[event][channel] = lowhigh_spectral_filter(signalData[event][channel], upperBoundary)\n",
    "    \n",
    "    return x_spectral"
   ]
  },
  {
   "cell_type": "code",
   "execution_count": null,
   "metadata": {},
   "outputs": [],
   "source": [
    "def save_data(x, dataName):\n",
    "    with h5py.File(dataName + '_x.h5', 'w') as hf:\n",
    "        hf.create_dataset(dataName + \"_x_dataset\", data=x)"
   ]
  },
  {
   "cell_type": "markdown",
   "metadata": {},
   "source": [
    "## Hyper-Parameter Search"
   ]
  },
  {
   "cell_type": "code",
   "execution_count": null,
   "metadata": {},
   "outputs": [],
   "source": [
    "# Hyperparameters\n",
    "upper_boundaries = [20, 30, 50, 100]"
   ]
  },
  {
   "cell_type": "code",
   "execution_count": null,
   "metadata": {},
   "outputs": [],
   "source": [
    "for upper_boundary in upper_boundaries:        \n",
    "    # --- Spectral Filter ---\n",
    "    X_spectral = apply_spectral_filter(X, upper_boundary)\n",
    "    save_data(X_spectral, f\"EP_spectral_{str(upper_boundary)}_upperBoundary\")"
   ]
  }
 ],
 "metadata": {
  "kernelspec": {
   "display_name": "Python 3",
   "language": "python",
   "name": "python3"
  },
  "language_info": {
   "codemirror_mode": {
    "name": "ipython",
    "version": 3
   },
   "file_extension": ".py",
   "mimetype": "text/x-python",
   "name": "python",
   "nbconvert_exporter": "python",
   "pygments_lexer": "ipython3",
   "version": "3.7.5"
  }
 },
 "nbformat": 4,
 "nbformat_minor": 2
}
